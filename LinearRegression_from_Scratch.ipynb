{
  "nbformat": 4,
  "nbformat_minor": 0,
  "metadata": {
    "colab": {
      "name": "LinearRegression from Scratch.ipynb",
      "provenance": [],
      "collapsed_sections": [],
      "authorship_tag": "ABX9TyO+Cz/ex66BabnRYJeBTzC2",
      "include_colab_link": true
    },
    "kernelspec": {
      "name": "python3",
      "display_name": "Python 3"
    }
  },
  "cells": [
    {
      "cell_type": "markdown",
      "metadata": {
        "id": "view-in-github",
        "colab_type": "text"
      },
      "source": [
        "<a href=\"https://colab.research.google.com/github/Radhika14soni/ML-Algo-from-scratch/blob/master/LinearRegression_from_Scratch.ipynb\" target=\"_parent\"><img src=\"https://colab.research.google.com/assets/colab-badge.svg\" alt=\"Open In Colab\"/></a>"
      ]
    },
    {
      "cell_type": "code",
      "metadata": {
        "id": "ku99q2563FBF",
        "colab_type": "code",
        "colab": {}
      },
      "source": [
        "import numpy as np\n",
        "from sklearn import datasets\n",
        "from sklearn.model_selection import train_test_split\n",
        "import matplotlib.pyplot as plt\n",
        "import pandas as pd\n"
      ],
      "execution_count": 118,
      "outputs": []
    },
    {
      "cell_type": "code",
      "metadata": {
        "id": "Pnc29J0g3x_Q",
        "colab_type": "code",
        "colab": {}
      },
      "source": [
        ""
      ],
      "execution_count": 118,
      "outputs": []
    },
    {
      "cell_type": "code",
      "metadata": {
        "id": "FBxXv64p4QA0",
        "colab_type": "code",
        "colab": {}
      },
      "source": [
        "class LinearRegression:\n",
        "    def __init__(self,lr=0.001,iters=1000,):\n",
        "      self.iters = iters\n",
        "      self.lr = lr\n",
        "      self.weights = None\n",
        "      self.bias = None\n",
        "\n",
        "    def fit(self,train_x,train_y):\n",
        "\n",
        "        n_samples,n_features =train_x.shape \n",
        "        self.weights=np.zeros(n_features)\n",
        "        self.bias=0\n",
        "\n",
        "        for i in range(self.iters):\n",
        "               yhat = np.dot(train_x,self.weights) + self.bias # here we get one value for each sample \n",
        "      \n",
        "               dw = (1/n_samples) * np.dot(train_x.T, (yhat - train_y)) # dw = derivative of w, here we want to get one value for each feature vector so we do x.T \n",
        "               db = (1/n_samples) * np.sum(yhat - train_y) # db = derivative of b\n",
        "\n",
        "               self.weights -= self.lr * dw \n",
        "               self.bias -= self.lr * db\n",
        "        #plt.plot(self.weights,yhat)\n",
        "        #plt.show()\n",
        "       \n",
        "    def predict(self,test_x):\n",
        "     prediction = np.dot(test_x,self.weights) + self.bias\n",
        "     return prediction\n",
        "\n",
        "\n",
        "    def mse(self,y_true,y_predict):\n",
        "     self.n_samples=y_true.shape[0]\n",
        "     return (1/self.n_samples)* (np.sum((y_true - y_predict)**2)) \n",
        "    "
      ],
      "execution_count": 195,
      "outputs": []
    },
    {
      "cell_type": "code",
      "metadata": {
        "id": "si1Xknm-5Mu9",
        "colab_type": "code",
        "colab": {}
      },
      "source": [
        ""
      ],
      "execution_count": 192,
      "outputs": []
    },
    {
      "cell_type": "code",
      "metadata": {
        "id": "zjunD4mX5w9R",
        "colab_type": "code",
        "colab": {
          "base_uri": "https://localhost:8080/",
          "height": 35
        },
        "outputId": "adcd9d87-accc-4939-b844-b84a460b6480"
      },
      "source": [
        "X,y = datasets.make_regression(n_samples=100,n_features=1,noise=20,random_state=4)\n",
        "\n",
        "X_train,X_test,y_train,y_test = train_test_split(X,y,test_size=0.2,random_state=1234)\n",
        "\n",
        "\n",
        "\n",
        "\n",
        "\n",
        "'''\n",
        "figure = plt.figure(figsize=(10,10))\n",
        "plt.scatter(X,y,color='b',marker='o',s=30)\n",
        "plt.show()\n",
        "'''"
      ],
      "execution_count": 199,
      "outputs": [
        {
          "output_type": "execute_result",
          "data": {
            "application/vnd.google.colaboratory.intrinsic": {
              "type": "string"
            },
            "text/plain": [
              "\"\\nfigure = plt.figure(figsize=(10,10))\\nplt.scatter(X,y,color='b',marker='o',s=30)\\nplt.show()\\n\""
            ]
          },
          "metadata": {
            "tags": []
          },
          "execution_count": 199
        }
      ]
    },
    {
      "cell_type": "code",
      "metadata": {
        "id": "mhG9hwz7RwDf",
        "colab_type": "code",
        "colab": {}
      },
      "source": [
        ""
      ],
      "execution_count": 199,
      "outputs": []
    },
    {
      "cell_type": "code",
      "metadata": {
        "id": "QoEjgLH-SHik",
        "colab_type": "code",
        "colab": {
          "base_uri": "https://localhost:8080/",
          "height": 34
        },
        "outputId": "4f10193d-2838-4dcb-e95a-4a8fe9ab1a21"
      },
      "source": [
        "\n",
        "model = LinearRegression(lr=0.1)\n",
        "model.fit(X_train,y_train)\n",
        "\n",
        "predict = model.predict(X_test)\n",
        "#print(X_test)\n",
        "model.mse(y_test,predict)"
      ],
      "execution_count": 208,
      "outputs": [
        {
          "output_type": "execute_result",
          "data": {
            "text/plain": [
              "305.77413162286416"
            ]
          },
          "metadata": {
            "tags": []
          },
          "execution_count": 208
        }
      ]
    },
    {
      "cell_type": "code",
      "metadata": {
        "id": "NJp6RVIRWSaQ",
        "colab_type": "code",
        "colab": {
          "base_uri": "https://localhost:8080/",
          "height": 375
        },
        "outputId": "e0ac4d9e-bfb5-40bb-d1b7-0b421311717b"
      },
      "source": [
        "y_pred_line  = model.predict(X)\n",
        "\n",
        "cmap = plt.get_cmap('viridis')\n",
        "fig = plt.figure(figsize=(8,6))\n",
        "m1 = plt.scatter(X_train, y_train, color=cmap(0.9), s=10)\n",
        "m2 = plt.scatter(X_test, y_test, color=cmap(0.5), s=10)\n",
        "plt.plot(X, y_pred_line , color='black', linewidth=2, label=\"Prediction\")\n",
        "plt.show()"
      ],
      "execution_count": 209,
      "outputs": [
        {
          "output_type": "display_data",
          "data": {
            "image/png": "[encoded data removed]",
            "text/plain": [
              "<Figure size 576x432 with 1 Axes>"
            ]
          },
          "metadata": {
            "tags": [],
            "needs_background": "light"
          }
        }
      ]
    },
    {
      "cell_type": "code",
      "metadata": {
        "id": "zcsAYQS_hySR",
        "colab_type": "code",
        "colab": {}
      },
      "source": [
        ""
      ],
      "execution_count": null,
      "outputs": []
    }
  ]
}